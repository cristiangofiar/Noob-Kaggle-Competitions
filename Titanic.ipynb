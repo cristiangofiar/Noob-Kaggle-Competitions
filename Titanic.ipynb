{
 "cells": [
  {
   "cell_type": "markdown",
   "metadata": {},
   "source": [
    "# Competición titanic con keras \n"
   ]
  },
  {
   "cell_type": "markdown",
   "metadata": {},
   "source": [
    "## importar librerias y datos"
   ]
  },
  {
   "cell_type": "code",
   "execution_count": 93,
   "metadata": {},
   "outputs": [],
   "source": [
    "from tensorflow import keras\n",
    "from tensorflow.keras.optimizers import Adam\n",
    "\n",
    "import numpy as np\n",
    "import pandas as pd\n",
    "from sklearn.preprocessing import LabelEncoder\n",
    "train_data = pd.read_csv('data/train.csv')\n",
    "test_data = pd.read_csv('data/test.csv')"
   ]
  },
  {
   "cell_type": "markdown",
   "metadata": {},
   "source": [
    "## Unir los dataframes."
   ]
  },
  {
   "cell_type": "code",
   "execution_count": 94,
   "metadata": {},
   "outputs": [],
   "source": [
    "data = pd.concat([train_data, test_data])"
   ]
  },
  {
   "cell_type": "markdown",
   "metadata": {},
   "source": [
    "## Ingeniera de datos"
   ]
  },
  {
   "cell_type": "code",
   "execution_count": 95,
   "metadata": {},
   "outputs": [],
   "source": [
    "y_train = data[:891].Survived\n",
    "\n",
    "# Borrar columnas innesesarias.\n",
    "features_to_remove = ['PassengerId', 'Ticket', 'Cabin',  'Survived']\n",
    "data = data.drop(features_to_remove , axis=1)\n",
    "#  Reemplazar datos categóricos por  de sexo0s y  por 1s.\n",
    "data['Sex'] = LabelEncoder().fit_transform(data['Sex'])\n",
    "data['Embarked'] = LabelEncoder().fit_transform(data['Embarked'])"
   ]
  },
  {
   "cell_type": "markdown",
   "metadata": {},
   "source": [
    "### Generación de nuevos atributos"
   ]
  },
  {
   "cell_type": "markdown",
   "metadata": {},
   "source": [
    "A partir de ``SibSp`` y ``Parch`` generamos y reemplazamos lo anterior con un nuevo atributo para verificar si el pasajero arrivó solo o con algún pariente: ``IsAlone``."
   ]
  },
  {
   "cell_type": "code",
   "execution_count": 96,
   "metadata": {},
   "outputs": [],
   "source": [
    "data['IsAlone'] = 0\n",
    "data.loc[ (data['SibSp'] + data['Parch']) == 0, 'IsAlone'] = 1 \n",
    "data.drop(['SibSp', 'Parch'], axis=1, inplace=True)"
   ]
  },
  {
   "cell_type": "markdown",
   "metadata": {},
   "source": [
    "A partir de Los prefijos de los nombres del los pasajeros, se genera un nuevo atributo que representa el prefijo de los nombres: ``Title``.\n"
   ]
  },
  {
   "cell_type": "code",
   "execution_count": 97,
   "metadata": {},
   "outputs": [],
   "source": [
    "# Extraer prefijo del nombre de las personas.\n",
    "data['Title'] = data.Name.str.extract(' ([A-Za-z]+)\\.', expand=False)\n",
    "\n",
    "# Reemplazar los titulos raros con uno mas abarcativo: 'Rare'.\n",
    "data['Title'] = data['Title'].replace(['Lady', 'Countess','Capt', 'Col', 'Don', 'Dr', 'Major', 'Rev', 'Sir', 'Jonkheer', 'Dona'], 'Rare')\n",
    "data['Title'] = data['Title'].replace(['Mlle','Ms'], 'Miss')\n",
    "data['Title'] = data['Title'].replace('Mme', 'Mrs')\n",
    "data['Title'] = LabelEncoder().fit_transform(data['Title'])\n",
    "data.drop(['Name'], axis=1, inplace=True)"
   ]
  },
  {
   "cell_type": "markdown",
   "metadata": {},
   "source": [
    "Rellenamos ``Age`` faltantes según la relación con ``Sex`` y ``Pclass``."
   ]
  },
  {
   "cell_type": "code",
   "execution_count": 98,
   "metadata": {},
   "outputs": [],
   "source": [
    "guess_ages = np.zeros((2,3))\n",
    "\n",
    "for i in range(0, 2): # itera con => 0,1 para sexo\n",
    "    for j in range(0, 3):  # itera con => 1,2,3 para pclass\n",
    "        guess_df = data[(data['Sex'] == i) & (data['Pclass'] == j+1)]['Age'].dropna()\n",
    "\n",
    "        # Convierte el numero decimal al .5 mas cercano\n",
    "        guess_ages[i,j] = round( guess_df.mean() *2 ) / 2\n",
    "\n",
    "        data.loc[ (data.Age.isnull()) & (data.Sex == i) & (data.Pclass == j+1),'Age'] = guess_ages[i,j]\n",
    "\n",
    "data[\"AgeCat\"]= pd.cut(data[\"Age\"], bins=[0,14.9,30,45,60,max(data[\"Age\"]+1)], labels=['1','2','3','4','5'])\n",
    "data.drop(['Age'], axis=1, inplace=True)"
   ]
  },
  {
   "cell_type": "markdown",
   "metadata": {},
   "source": [
    "Rellenamos ``Fare`` con su mediana."
   ]
  },
  {
   "cell_type": "code",
   "execution_count": 99,
   "metadata": {},
   "outputs": [],
   "source": [
    "data['Fare'].fillna(data['Fare'].dropna().median(), inplace=True)\n",
    "#data.drop(['Fare'],axis=1,inplace=True)"
   ]
  },
  {
   "cell_type": "markdown",
   "metadata": {},
   "source": [
    "rellamos ``Embarked`` con el valor mas comun"
   ]
  },
  {
   "cell_type": "code",
   "execution_count": 100,
   "metadata": {},
   "outputs": [],
   "source": [
    "data['Embarked'].fillna('S', inplace=True)"
   ]
  },
  {
   "cell_type": "markdown",
   "metadata": {},
   "source": [
    "Convertimos columna de datos categóricos a variables dummys."
   ]
  },
  {
   "cell_type": "code",
   "execution_count": 101,
   "metadata": {},
   "outputs": [],
   "source": [
    "data = pd.get_dummies(data, columns=['Pclass', 'Embarked','Title'], prefix=['Pclass','Embarked','Title'])#, drop_first=True)"
   ]
  },
  {
   "cell_type": "markdown",
   "metadata": {},
   "source": [
    "Split y visualización de ``data``."
   ]
  },
  {
   "cell_type": "code",
   "execution_count": 156,
   "metadata": {},
   "outputs": [],
   "source": [
    "X_train = data[:891]\n",
    "test = data[891:]"
   ]
  },
  {
   "cell_type": "code",
   "execution_count": 155,
   "metadata": {},
   "outputs": [],
   "source": [
    "data['AgeCat'] = LabelEncoder().fit_transform(data['AgeCat'])"
   ]
  },
  {
   "cell_type": "code",
   "execution_count": 157,
   "metadata": {},
   "outputs": [
    {
     "name": "stdout",
     "output_type": "stream",
     "text": [
      "<class 'pandas.core.frame.DataFrame'>\n",
      "Int64Index: 891 entries, 0 to 890\n",
      "Data columns (total 6 columns):\n",
      " #   Column    Non-Null Count  Dtype\n",
      "---  ------    --------------  -----\n",
      " 0   Pclass    891 non-null    int64\n",
      " 1   Sex       891 non-null    int32\n",
      " 2   Embarked  891 non-null    int32\n",
      " 3   IsAlone   891 non-null    int64\n",
      " 4   Title     891 non-null    int32\n",
      " 5   AgeCat    891 non-null    int64\n",
      "dtypes: int32(3), int64(3)\n",
      "memory usage: 38.3 KB\n"
     ]
    }
   ],
   "source": [
    "X_train.info()"
   ]
  },
  {
   "cell_type": "markdown",
   "metadata": {},
   "source": [
    "## Definición de modelo"
   ]
  },
  {
   "cell_type": "code",
   "execution_count": 115,
   "metadata": {},
   "outputs": [
    {
     "name": "stdout",
     "output_type": "stream",
     "text": [
      "Model: \"sequential_7\"\n",
      "_________________________________________________________________\n",
      " Layer (type)                Output Shape              Param #   \n",
      "=================================================================\n",
      " dense_35 (Dense)            (None, 10)                70        \n",
      "                                                                 \n",
      " dense_36 (Dense)            (None, 100)               1100      \n",
      "                                                                 \n",
      " dense_37 (Dense)            (None, 100)               10100     \n",
      "                                                                 \n",
      " dense_38 (Dense)            (None, 100)               10100     \n",
      "                                                                 \n",
      " dense_39 (Dense)            (None, 1)                 101       \n",
      "                                                                 \n",
      "=================================================================\n",
      "Total params: 21,471\n",
      "Trainable params: 21,471\n",
      "Non-trainable params: 0\n",
      "_________________________________________________________________\n"
     ]
    }
   ],
   "source": [
    "def build_model():\n",
    "  model = keras.Sequential([\n",
    "    keras.layers.Dense(10, activation='relu', input_shape=[len(X_train.keys())]),\n",
    "    #keras.layers.Dropout(0.2),\n",
    "    keras.layers.Dense(10, activation='relu'),\n",
    "    keras.layers.Dense(10, activation='relu'),\n",
    "    #keras.layers.Dropout(0.2),\n",
    "   # keras.layers.Dense(10, activation='relu'),\n",
    "    #keras.layers.Dense(10, activation='relu'),\n",
    "    keras.layers.Dense(1, activation='sigmoid') \n",
    "  ])\n",
    "\n",
    "  model.compile(loss='binary_crossentropy',\n",
    "                optimizer=Adam(learning_rate=0.003),\n",
    "                metrics=['accuracy'])\n",
    "\n",
    "  return model\n",
    "\n",
    "model = build_model()\n",
    "model.summary()"
   ]
  },
  {
   "cell_type": "markdown",
   "metadata": {},
   "source": [
    "## Entrenamiento del modelo\n"
   ]
  },
  {
   "cell_type": "code",
   "execution_count": 158,
   "metadata": {},
   "outputs": [
    {
     "name": "stdout",
     "output_type": "stream",
     "text": [
      "Epoch 1/90\n",
      "143/143 - 1s - loss: 0.5533 - accuracy: 0.7346 - val_loss: 0.5087 - val_accuracy: 0.8101 - 1s/epoch - 10ms/step\n",
      "Epoch 2/90\n",
      "143/143 - 0s - loss: 0.4993 - accuracy: 0.7809 - val_loss: 0.3933 - val_accuracy: 0.8268 - 410ms/epoch - 3ms/step\n",
      "Epoch 3/90\n",
      "143/143 - 0s - loss: 0.4879 - accuracy: 0.7823 - val_loss: 0.3952 - val_accuracy: 0.8324 - 407ms/epoch - 3ms/step\n",
      "Epoch 4/90\n",
      "143/143 - 0s - loss: 0.4669 - accuracy: 0.7992 - val_loss: 0.4009 - val_accuracy: 0.8380 - 389ms/epoch - 3ms/step\n",
      "Epoch 5/90\n",
      "143/143 - 0s - loss: 0.4592 - accuracy: 0.8104 - val_loss: 0.3845 - val_accuracy: 0.8436 - 359ms/epoch - 3ms/step\n",
      "Epoch 6/90\n",
      "143/143 - 0s - loss: 0.4411 - accuracy: 0.8020 - val_loss: 0.3873 - val_accuracy: 0.8436 - 451ms/epoch - 3ms/step\n",
      "Epoch 7/90\n",
      "143/143 - 0s - loss: 0.4430 - accuracy: 0.8048 - val_loss: 0.4215 - val_accuracy: 0.8212 - 363ms/epoch - 3ms/step\n",
      "Epoch 8/90\n",
      "143/143 - 0s - loss: 0.4535 - accuracy: 0.8188 - val_loss: 0.3924 - val_accuracy: 0.8547 - 400ms/epoch - 3ms/step\n",
      "Epoch 9/90\n",
      "143/143 - 0s - loss: 0.4396 - accuracy: 0.8104 - val_loss: 0.3764 - val_accuracy: 0.8436 - 331ms/epoch - 2ms/step\n",
      "Epoch 10/90\n",
      "143/143 - 0s - loss: 0.4450 - accuracy: 0.7978 - val_loss: 0.3953 - val_accuracy: 0.8268 - 365ms/epoch - 3ms/step\n",
      "Epoch 11/90\n",
      "143/143 - 0s - loss: 0.4387 - accuracy: 0.8132 - val_loss: 0.3868 - val_accuracy: 0.8380 - 320ms/epoch - 2ms/step\n",
      "Epoch 12/90\n",
      "143/143 - 0s - loss: 0.4558 - accuracy: 0.7992 - val_loss: 0.3786 - val_accuracy: 0.8436 - 430ms/epoch - 3ms/step\n",
      "Epoch 13/90\n",
      "143/143 - 0s - loss: 0.4556 - accuracy: 0.8090 - val_loss: 0.4761 - val_accuracy: 0.8101 - 433ms/epoch - 3ms/step\n",
      "Epoch 14/90\n",
      "143/143 - 0s - loss: 0.4425 - accuracy: 0.8230 - val_loss: 0.3764 - val_accuracy: 0.8380 - 345ms/epoch - 2ms/step\n",
      "Epoch 15/90\n",
      "143/143 - 0s - loss: 0.4406 - accuracy: 0.8146 - val_loss: 0.4191 - val_accuracy: 0.8268 - 334ms/epoch - 2ms/step\n",
      "Epoch 16/90\n",
      "143/143 - 0s - loss: 0.4276 - accuracy: 0.8230 - val_loss: 0.4148 - val_accuracy: 0.8380 - 335ms/epoch - 2ms/step\n",
      "Epoch 17/90\n",
      "143/143 - 0s - loss: 0.4344 - accuracy: 0.8048 - val_loss: 0.3890 - val_accuracy: 0.8380 - 322ms/epoch - 2ms/step\n",
      "Epoch 18/90\n",
      "143/143 - 0s - loss: 0.4263 - accuracy: 0.8188 - val_loss: 0.3918 - val_accuracy: 0.8436 - 331ms/epoch - 2ms/step\n",
      "Epoch 19/90\n",
      "143/143 - 0s - loss: 0.4396 - accuracy: 0.8216 - val_loss: 0.3879 - val_accuracy: 0.8380 - 384ms/epoch - 3ms/step\n",
      "Epoch 20/90\n",
      "143/143 - 0s - loss: 0.4300 - accuracy: 0.8132 - val_loss: 0.3990 - val_accuracy: 0.8324 - 340ms/epoch - 2ms/step\n",
      "Epoch 21/90\n",
      "143/143 - 0s - loss: 0.4266 - accuracy: 0.8160 - val_loss: 0.3768 - val_accuracy: 0.8492 - 327ms/epoch - 2ms/step\n",
      "Epoch 22/90\n",
      "143/143 - 0s - loss: 0.4424 - accuracy: 0.8090 - val_loss: 0.4671 - val_accuracy: 0.8380 - 351ms/epoch - 2ms/step\n",
      "Epoch 23/90\n",
      "143/143 - 0s - loss: 0.4242 - accuracy: 0.8174 - val_loss: 0.3937 - val_accuracy: 0.8268 - 329ms/epoch - 2ms/step\n",
      "Epoch 24/90\n",
      "143/143 - 0s - loss: 0.4244 - accuracy: 0.8301 - val_loss: 0.3871 - val_accuracy: 0.8380 - 331ms/epoch - 2ms/step\n",
      "Epoch 25/90\n",
      "143/143 - 0s - loss: 0.4390 - accuracy: 0.8132 - val_loss: 0.3806 - val_accuracy: 0.8324 - 364ms/epoch - 3ms/step\n",
      "Epoch 26/90\n",
      "143/143 - 0s - loss: 0.4203 - accuracy: 0.8160 - val_loss: 0.4272 - val_accuracy: 0.8268 - 363ms/epoch - 3ms/step\n",
      "Epoch 27/90\n",
      "143/143 - 0s - loss: 0.4206 - accuracy: 0.8132 - val_loss: 0.4121 - val_accuracy: 0.8380 - 339ms/epoch - 2ms/step\n",
      "Epoch 28/90\n",
      "143/143 - 0s - loss: 0.4131 - accuracy: 0.8244 - val_loss: 0.4532 - val_accuracy: 0.8045 - 381ms/epoch - 3ms/step\n",
      "Epoch 29/90\n",
      "143/143 - 0s - loss: 0.4331 - accuracy: 0.8076 - val_loss: 0.4165 - val_accuracy: 0.8212 - 387ms/epoch - 3ms/step\n",
      "Epoch 30/90\n",
      "143/143 - 0s - loss: 0.4294 - accuracy: 0.8132 - val_loss: 0.3916 - val_accuracy: 0.8268 - 408ms/epoch - 3ms/step\n",
      "Epoch 31/90\n",
      "143/143 - 0s - loss: 0.4232 - accuracy: 0.8174 - val_loss: 0.3992 - val_accuracy: 0.8324 - 493ms/epoch - 3ms/step\n",
      "Epoch 32/90\n",
      "143/143 - 0s - loss: 0.4147 - accuracy: 0.8132 - val_loss: 0.3965 - val_accuracy: 0.8268 - 391ms/epoch - 3ms/step\n",
      "Epoch 33/90\n",
      "143/143 - 0s - loss: 0.4269 - accuracy: 0.8230 - val_loss: 0.3902 - val_accuracy: 0.8324 - 388ms/epoch - 3ms/step\n",
      "Epoch 34/90\n",
      "143/143 - 0s - loss: 0.4260 - accuracy: 0.8188 - val_loss: 0.4357 - val_accuracy: 0.8324 - 427ms/epoch - 3ms/step\n",
      "Epoch 35/90\n",
      "143/143 - 0s - loss: 0.4183 - accuracy: 0.8146 - val_loss: 0.4206 - val_accuracy: 0.8268 - 397ms/epoch - 3ms/step\n",
      "Epoch 36/90\n",
      "143/143 - 0s - loss: 0.4243 - accuracy: 0.8118 - val_loss: 0.3830 - val_accuracy: 0.8324 - 332ms/epoch - 2ms/step\n",
      "Epoch 37/90\n",
      "143/143 - 0s - loss: 0.4355 - accuracy: 0.8160 - val_loss: 0.4008 - val_accuracy: 0.8324 - 329ms/epoch - 2ms/step\n",
      "Epoch 38/90\n",
      "143/143 - 0s - loss: 0.4242 - accuracy: 0.8104 - val_loss: 0.4248 - val_accuracy: 0.8268 - 327ms/epoch - 2ms/step\n",
      "Epoch 39/90\n",
      "143/143 - 0s - loss: 0.4163 - accuracy: 0.8188 - val_loss: 0.4316 - val_accuracy: 0.8380 - 331ms/epoch - 2ms/step\n",
      "Epoch 40/90\n",
      "143/143 - 0s - loss: 0.4200 - accuracy: 0.8146 - val_loss: 0.4245 - val_accuracy: 0.8436 - 335ms/epoch - 2ms/step\n",
      "Epoch 41/90\n",
      "143/143 - 0s - loss: 0.4213 - accuracy: 0.8174 - val_loss: 0.4149 - val_accuracy: 0.8324 - 328ms/epoch - 2ms/step\n",
      "Epoch 42/90\n",
      "143/143 - 0s - loss: 0.4114 - accuracy: 0.8272 - val_loss: 0.4520 - val_accuracy: 0.8212 - 345ms/epoch - 2ms/step\n",
      "Epoch 43/90\n",
      "143/143 - 0s - loss: 0.4175 - accuracy: 0.8202 - val_loss: 0.3814 - val_accuracy: 0.8380 - 334ms/epoch - 2ms/step\n",
      "Epoch 44/90\n",
      "143/143 - 0s - loss: 0.4132 - accuracy: 0.8202 - val_loss: 0.4678 - val_accuracy: 0.8324 - 337ms/epoch - 2ms/step\n",
      "Epoch 45/90\n",
      "143/143 - 0s - loss: 0.4154 - accuracy: 0.8202 - val_loss: 0.4028 - val_accuracy: 0.8324 - 368ms/epoch - 3ms/step\n",
      "Epoch 46/90\n",
      "143/143 - 0s - loss: 0.4093 - accuracy: 0.8287 - val_loss: 0.4283 - val_accuracy: 0.8268 - 379ms/epoch - 3ms/step\n",
      "Epoch 47/90\n",
      "143/143 - 0s - loss: 0.4067 - accuracy: 0.8174 - val_loss: 0.5924 - val_accuracy: 0.8156 - 434ms/epoch - 3ms/step\n",
      "Epoch 48/90\n",
      "143/143 - 0s - loss: 0.4256 - accuracy: 0.8174 - val_loss: 0.3742 - val_accuracy: 0.8380 - 390ms/epoch - 3ms/step\n",
      "Epoch 49/90\n",
      "143/143 - 0s - loss: 0.4220 - accuracy: 0.8188 - val_loss: 0.4343 - val_accuracy: 0.8436 - 339ms/epoch - 2ms/step\n",
      "Epoch 50/90\n",
      "143/143 - 0s - loss: 0.4209 - accuracy: 0.8230 - val_loss: 0.4390 - val_accuracy: 0.8156 - 336ms/epoch - 2ms/step\n",
      "Epoch 51/90\n",
      "143/143 - 0s - loss: 0.4006 - accuracy: 0.8272 - val_loss: 0.4414 - val_accuracy: 0.8492 - 323ms/epoch - 2ms/step\n",
      "Epoch 52/90\n",
      "143/143 - 0s - loss: 0.4094 - accuracy: 0.8216 - val_loss: 0.3731 - val_accuracy: 0.8380 - 317ms/epoch - 2ms/step\n",
      "Epoch 53/90\n",
      "143/143 - 0s - loss: 0.4133 - accuracy: 0.8188 - val_loss: 0.4267 - val_accuracy: 0.8324 - 349ms/epoch - 2ms/step\n",
      "Epoch 54/90\n",
      "143/143 - 0s - loss: 0.4095 - accuracy: 0.8132 - val_loss: 0.4507 - val_accuracy: 0.8436 - 321ms/epoch - 2ms/step\n",
      "Epoch 55/90\n",
      "143/143 - 0s - loss: 0.4061 - accuracy: 0.8258 - val_loss: 0.4634 - val_accuracy: 0.8547 - 322ms/epoch - 2ms/step\n",
      "Epoch 56/90\n",
      "143/143 - 0s - loss: 0.4216 - accuracy: 0.8104 - val_loss: 0.3983 - val_accuracy: 0.8324 - 328ms/epoch - 2ms/step\n",
      "Epoch 57/90\n",
      "143/143 - 0s - loss: 0.4048 - accuracy: 0.8258 - val_loss: 0.3858 - val_accuracy: 0.8212 - 340ms/epoch - 2ms/step\n",
      "Epoch 58/90\n",
      "143/143 - 0s - loss: 0.4099 - accuracy: 0.8315 - val_loss: 0.6054 - val_accuracy: 0.8156 - 364ms/epoch - 3ms/step\n",
      "Epoch 59/90\n",
      "143/143 - 0s - loss: 0.4272 - accuracy: 0.8329 - val_loss: 0.3849 - val_accuracy: 0.8324 - 339ms/epoch - 2ms/step\n",
      "Epoch 60/90\n",
      "143/143 - 0s - loss: 0.4331 - accuracy: 0.8076 - val_loss: 0.4256 - val_accuracy: 0.8380 - 315ms/epoch - 2ms/step\n",
      "Epoch 61/90\n",
      "143/143 - 0s - loss: 0.4104 - accuracy: 0.8258 - val_loss: 0.4360 - val_accuracy: 0.8045 - 343ms/epoch - 2ms/step\n",
      "Epoch 62/90\n",
      "143/143 - 0s - loss: 0.4143 - accuracy: 0.8258 - val_loss: 0.3913 - val_accuracy: 0.8436 - 335ms/epoch - 2ms/step\n",
      "Epoch 63/90\n",
      "143/143 - 0s - loss: 0.4024 - accuracy: 0.8174 - val_loss: 0.4090 - val_accuracy: 0.8380 - 326ms/epoch - 2ms/step\n",
      "Epoch 64/90\n",
      "143/143 - 0s - loss: 0.4040 - accuracy: 0.8202 - val_loss: 0.4131 - val_accuracy: 0.8324 - 337ms/epoch - 2ms/step\n",
      "Epoch 65/90\n",
      "143/143 - 0s - loss: 0.4033 - accuracy: 0.8188 - val_loss: 0.4331 - val_accuracy: 0.8324 - 332ms/epoch - 2ms/step\n",
      "Epoch 66/90\n",
      "143/143 - 0s - loss: 0.4042 - accuracy: 0.8258 - val_loss: 0.3636 - val_accuracy: 0.8380 - 329ms/epoch - 2ms/step\n",
      "Epoch 67/90\n",
      "143/143 - 0s - loss: 0.4115 - accuracy: 0.8230 - val_loss: 0.4878 - val_accuracy: 0.8436 - 321ms/epoch - 2ms/step\n",
      "Epoch 68/90\n",
      "143/143 - 0s - loss: 0.4041 - accuracy: 0.8202 - val_loss: 0.4548 - val_accuracy: 0.8436 - 322ms/epoch - 2ms/step\n",
      "Epoch 69/90\n",
      "143/143 - 0s - loss: 0.4036 - accuracy: 0.8244 - val_loss: 0.4564 - val_accuracy: 0.8324 - 333ms/epoch - 2ms/step\n",
      "Epoch 70/90\n",
      "143/143 - 0s - loss: 0.4174 - accuracy: 0.8188 - val_loss: 0.4211 - val_accuracy: 0.8156 - 326ms/epoch - 2ms/step\n",
      "Epoch 71/90\n",
      "143/143 - 0s - loss: 0.4028 - accuracy: 0.8343 - val_loss: 0.3999 - val_accuracy: 0.8156 - 419ms/epoch - 3ms/step\n",
      "Epoch 72/90\n",
      "143/143 - 0s - loss: 0.3922 - accuracy: 0.8258 - val_loss: 0.4711 - val_accuracy: 0.8380 - 370ms/epoch - 3ms/step\n",
      "Epoch 73/90\n",
      "143/143 - 0s - loss: 0.3942 - accuracy: 0.8385 - val_loss: 0.4317 - val_accuracy: 0.8603 - 371ms/epoch - 3ms/step\n",
      "Epoch 74/90\n",
      "143/143 - 0s - loss: 0.3932 - accuracy: 0.8329 - val_loss: 0.5014 - val_accuracy: 0.8268 - 342ms/epoch - 2ms/step\n",
      "Epoch 75/90\n",
      "143/143 - 0s - loss: 0.3980 - accuracy: 0.8371 - val_loss: 0.4196 - val_accuracy: 0.8324 - 343ms/epoch - 2ms/step\n",
      "Epoch 76/90\n",
      "143/143 - 0s - loss: 0.4116 - accuracy: 0.8272 - val_loss: 0.3626 - val_accuracy: 0.8436 - 401ms/epoch - 3ms/step\n",
      "Epoch 77/90\n",
      "143/143 - 0s - loss: 0.4104 - accuracy: 0.8230 - val_loss: 0.4166 - val_accuracy: 0.8380 - 353ms/epoch - 2ms/step\n",
      "Epoch 78/90\n",
      "143/143 - 0s - loss: 0.4069 - accuracy: 0.8118 - val_loss: 0.4146 - val_accuracy: 0.8492 - 370ms/epoch - 3ms/step\n",
      "Epoch 79/90\n",
      "143/143 - 0s - loss: 0.3980 - accuracy: 0.8216 - val_loss: 0.4033 - val_accuracy: 0.8380 - 324ms/epoch - 2ms/step\n",
      "Epoch 80/90\n",
      "143/143 - 0s - loss: 0.3941 - accuracy: 0.8230 - val_loss: 0.4086 - val_accuracy: 0.8324 - 344ms/epoch - 2ms/step\n",
      "Epoch 81/90\n",
      "143/143 - 0s - loss: 0.3970 - accuracy: 0.8216 - val_loss: 0.5090 - val_accuracy: 0.8268 - 333ms/epoch - 2ms/step\n",
      "Epoch 82/90\n",
      "143/143 - 0s - loss: 0.4028 - accuracy: 0.8174 - val_loss: 0.4610 - val_accuracy: 0.8492 - 373ms/epoch - 3ms/step\n",
      "Epoch 83/90\n",
      "143/143 - 0s - loss: 0.3973 - accuracy: 0.8244 - val_loss: 0.5356 - val_accuracy: 0.8324 - 338ms/epoch - 2ms/step\n",
      "Epoch 84/90\n",
      "143/143 - 0s - loss: 0.4074 - accuracy: 0.8202 - val_loss: 0.3976 - val_accuracy: 0.8324 - 328ms/epoch - 2ms/step\n",
      "Epoch 85/90\n",
      "143/143 - 0s - loss: 0.3942 - accuracy: 0.8315 - val_loss: 0.4538 - val_accuracy: 0.8380 - 351ms/epoch - 2ms/step\n",
      "Epoch 86/90\n",
      "143/143 - 0s - loss: 0.3940 - accuracy: 0.8174 - val_loss: 0.3956 - val_accuracy: 0.8324 - 344ms/epoch - 2ms/step\n",
      "Epoch 87/90\n",
      "143/143 - 0s - loss: 0.3941 - accuracy: 0.8230 - val_loss: 0.5222 - val_accuracy: 0.8380 - 338ms/epoch - 2ms/step\n",
      "Epoch 88/90\n",
      "143/143 - 0s - loss: 0.3954 - accuracy: 0.8188 - val_loss: 0.5876 - val_accuracy: 0.8324 - 345ms/epoch - 2ms/step\n",
      "Epoch 89/90\n",
      "143/143 - 0s - loss: 0.3895 - accuracy: 0.8371 - val_loss: 0.6007 - val_accuracy: 0.8492 - 338ms/epoch - 2ms/step\n",
      "Epoch 90/90\n",
      "143/143 - 0s - loss: 0.3864 - accuracy: 0.8258 - val_loss: 0.5701 - val_accuracy: 0.8324 - 324ms/epoch - 2ms/step\n"
     ]
    }
   ],
   "source": [
    "history = model.fit(\n",
    "    X_train,\n",
    "    y_train,\n",
    "    verbose=2, epochs=90, batch_size = 5 , validation_split=0.2)"
   ]
  },
  {
   "cell_type": "markdown",
   "metadata": {},
   "source": [
    "## Evaluar con data 100% accuracy\n",
    "para evitar tener que estar subiendo constantemente la submission a kaggle, lo comparamos con el resultado final de la competición que se encuentra en un repo en github."
   ]
  },
  {
   "cell_type": "code",
   "execution_count": 159,
   "metadata": {},
   "outputs": [
    {
     "name": "stdout",
     "output_type": "stream",
     "text": [
      "14/14 [==============================] - 0s 3ms/step - loss: 0.7926 - accuracy: 0.7751\n"
     ]
    },
    {
     "data": {
      "text/plain": [
       "[0.7925856113433838, 0.7751196026802063]"
      ]
     },
     "execution_count": 159,
     "metadata": {},
     "output_type": "execute_result"
    }
   ],
   "source": [
    "y_test = pd.read_csv('data/submission_100accuracy.csv')['Survived']\n",
    "\n",
    "model.evaluate(test, y_test)"
   ]
  },
  {
   "cell_type": "markdown",
   "metadata": {},
   "source": [
    "## Predicciones"
   ]
  },
  {
   "cell_type": "code",
   "execution_count": 19,
   "metadata": {},
   "outputs": [
    {
     "name": "stdout",
     "output_type": "stream",
     "text": [
      "14/14 [==============================] - 0s 3ms/step\n"
     ]
    }
   ],
   "source": [
    "preds = model.predict(test)\n",
    "\n",
    "preds[preds > 0.5] = 1\n",
    "preds[preds <= 0.5] = 0"
   ]
  },
  {
   "cell_type": "markdown",
   "metadata": {},
   "source": [
    "## Exportar predicciones"
   ]
  },
  {
   "cell_type": "code",
   "execution_count": 20,
   "metadata": {},
   "outputs": [],
   "source": [
    "prediction = pd.DataFrame({'PassengerId': test_data.PassengerId.values, 'Survived': preds.ravel().astype('int64')})\n",
    "prediction.to_csv('data/results.csv', index=False)"
   ]
  },
  {
   "cell_type": "code",
   "execution_count": 21,
   "metadata": {},
   "outputs": [
    {
     "data": {
      "text/html": [
       "<div>\n",
       "<style scoped>\n",
       "    .dataframe tbody tr th:only-of-type {\n",
       "        vertical-align: middle;\n",
       "    }\n",
       "\n",
       "    .dataframe tbody tr th {\n",
       "        vertical-align: top;\n",
       "    }\n",
       "\n",
       "    .dataframe thead th {\n",
       "        text-align: right;\n",
       "    }\n",
       "</style>\n",
       "<table border=\"1\" class=\"dataframe\">\n",
       "  <thead>\n",
       "    <tr style=\"text-align: right;\">\n",
       "      <th></th>\n",
       "      <th>PassengerId</th>\n",
       "      <th>Survived</th>\n",
       "    </tr>\n",
       "  </thead>\n",
       "  <tbody>\n",
       "    <tr>\n",
       "      <th>0</th>\n",
       "      <td>892</td>\n",
       "      <td>0</td>\n",
       "    </tr>\n",
       "    <tr>\n",
       "      <th>1</th>\n",
       "      <td>893</td>\n",
       "      <td>0</td>\n",
       "    </tr>\n",
       "    <tr>\n",
       "      <th>2</th>\n",
       "      <td>894</td>\n",
       "      <td>0</td>\n",
       "    </tr>\n",
       "    <tr>\n",
       "      <th>3</th>\n",
       "      <td>895</td>\n",
       "      <td>0</td>\n",
       "    </tr>\n",
       "    <tr>\n",
       "      <th>4</th>\n",
       "      <td>896</td>\n",
       "      <td>1</td>\n",
       "    </tr>\n",
       "  </tbody>\n",
       "</table>\n",
       "</div>"
      ],
      "text/plain": [
       "   PassengerId  Survived\n",
       "0          892         0\n",
       "1          893         0\n",
       "2          894         0\n",
       "3          895         0\n",
       "4          896         1"
      ]
     },
     "execution_count": 21,
     "metadata": {},
     "output_type": "execute_result"
    }
   ],
   "source": [
    "prediction.head(5)"
   ]
  }
 ],
 "metadata": {
  "kernelspec": {
   "display_name": "Python 3.10.1 64-bit",
   "language": "python",
   "name": "python3"
  },
  "language_info": {
   "codemirror_mode": {
    "name": "ipython",
    "version": 3
   },
   "file_extension": ".py",
   "mimetype": "text/x-python",
   "name": "python",
   "nbconvert_exporter": "python",
   "pygments_lexer": "ipython3",
   "version": "3.10.1"
  },
  "vscode": {
   "interpreter": {
    "hash": "c20aac4d1132d606a606f05e1c314be588d8ff38e492675a297a0e8bc99c7796"
   }
  }
 },
 "nbformat": 4,
 "nbformat_minor": 4
}
