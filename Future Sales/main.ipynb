{
  "cells": [
    {
      "cell_type": "markdown",
      "metadata": {
        "id": "1RutojLHKeY0"
      },
      "source": [
        " # Competición Sales Prediction con keras\n"
      ]
    },
    {
      "cell_type": "code",
      "execution_count": 1,
      "metadata": {
        "colab": {
          "base_uri": "https://localhost:8080/"
        },
        "id": "_PQvnB64KlWM",
        "outputId": "ab0065e9-39fd-4f9f-dc4b-2393d5601179"
      },
      "outputs": [
        {
          "output_type": "stream",
          "name": "stdout",
          "text": [
            "Mounted at /content/drive\n"
          ]
        }
      ],
      "source": [
        "from google.colab import drive\n",
        "drive.mount('/content/drive')"
      ]
    },
    {
      "cell_type": "code",
      "execution_count": 2,
      "metadata": {
        "id": "IOfTzX2oKlzO"
      },
      "outputs": [],
      "source": [
        "import os\n",
        "\n",
        "os.chdir('drive/My Drive/')"
      ]
    },
    {
      "cell_type": "markdown",
      "metadata": {
        "id": "gC_J3iQ4KeY4"
      },
      "source": [
        " ## importar librerias y datos"
      ]
    },
    {
      "cell_type": "code",
      "execution_count": 3,
      "metadata": {
        "id": "8u4ADVQQKeY7"
      },
      "outputs": [],
      "source": [
        "from tensorflow import keras\n",
        "from tensorflow.keras.optimizers import Adam\n",
        "import numpy as np\n",
        "import pandas as pd\n",
        "from sklearn.preprocessing import LabelEncoder\n",
        "from keras.preprocessing.sequence import TimeseriesGenerator\n",
        "# from sklearn.model_selection import train_test_split"
      ]
    },
    {
      "cell_type": "code",
      "execution_count": 4,
      "metadata": {
        "colab": {
          "base_uri": "https://localhost:8080/",
          "height": 238
        },
        "id": "G-s2nd1cKeY-",
        "outputId": "b109230f-8a3d-452e-824f-bd91e31a17dd"
      },
      "outputs": [
        {
          "output_type": "execute_result",
          "data": {
            "text/plain": [
              "      item_categories             items     sales_train sample_submission  \\\n",
              "0  item_category_name         item_name            date                ID   \n",
              "1    item_category_id           item_id  date_block_num    item_cnt_month   \n",
              "2                   -  item_category_id         shop_id                 -   \n",
              "3                   -                 -         item_id                 -   \n",
              "4                   -                 -      item_price                 -   \n",
              "5                   -                 -    item_cnt_day                 -   \n",
              "\n",
              "       shops     test  \n",
              "0  shop_name       ID  \n",
              "1    shop_id  shop_id  \n",
              "2          -  item_id  \n",
              "3          -        -  \n",
              "4          -        -  \n",
              "5          -        -  "
            ],
            "text/html": [
              "\n",
              "  <div id=\"df-9955098f-643f-4697-b5f4-3f25f0684733\">\n",
              "    <div class=\"colab-df-container\">\n",
              "      <div>\n",
              "<style scoped>\n",
              "    .dataframe tbody tr th:only-of-type {\n",
              "        vertical-align: middle;\n",
              "    }\n",
              "\n",
              "    .dataframe tbody tr th {\n",
              "        vertical-align: top;\n",
              "    }\n",
              "\n",
              "    .dataframe thead th {\n",
              "        text-align: right;\n",
              "    }\n",
              "</style>\n",
              "<table border=\"1\" class=\"dataframe\">\n",
              "  <thead>\n",
              "    <tr style=\"text-align: right;\">\n",
              "      <th></th>\n",
              "      <th>item_categories</th>\n",
              "      <th>items</th>\n",
              "      <th>sales_train</th>\n",
              "      <th>sample_submission</th>\n",
              "      <th>shops</th>\n",
              "      <th>test</th>\n",
              "    </tr>\n",
              "  </thead>\n",
              "  <tbody>\n",
              "    <tr>\n",
              "      <th>0</th>\n",
              "      <td>item_category_name</td>\n",
              "      <td>item_name</td>\n",
              "      <td>date</td>\n",
              "      <td>ID</td>\n",
              "      <td>shop_name</td>\n",
              "      <td>ID</td>\n",
              "    </tr>\n",
              "    <tr>\n",
              "      <th>1</th>\n",
              "      <td>item_category_id</td>\n",
              "      <td>item_id</td>\n",
              "      <td>date_block_num</td>\n",
              "      <td>item_cnt_month</td>\n",
              "      <td>shop_id</td>\n",
              "      <td>shop_id</td>\n",
              "    </tr>\n",
              "    <tr>\n",
              "      <th>2</th>\n",
              "      <td>-</td>\n",
              "      <td>item_category_id</td>\n",
              "      <td>shop_id</td>\n",
              "      <td>-</td>\n",
              "      <td>-</td>\n",
              "      <td>item_id</td>\n",
              "    </tr>\n",
              "    <tr>\n",
              "      <th>3</th>\n",
              "      <td>-</td>\n",
              "      <td>-</td>\n",
              "      <td>item_id</td>\n",
              "      <td>-</td>\n",
              "      <td>-</td>\n",
              "      <td>-</td>\n",
              "    </tr>\n",
              "    <tr>\n",
              "      <th>4</th>\n",
              "      <td>-</td>\n",
              "      <td>-</td>\n",
              "      <td>item_price</td>\n",
              "      <td>-</td>\n",
              "      <td>-</td>\n",
              "      <td>-</td>\n",
              "    </tr>\n",
              "    <tr>\n",
              "      <th>5</th>\n",
              "      <td>-</td>\n",
              "      <td>-</td>\n",
              "      <td>item_cnt_day</td>\n",
              "      <td>-</td>\n",
              "      <td>-</td>\n",
              "      <td>-</td>\n",
              "    </tr>\n",
              "  </tbody>\n",
              "</table>\n",
              "</div>\n",
              "      <button class=\"colab-df-convert\" onclick=\"convertToInteractive('df-9955098f-643f-4697-b5f4-3f25f0684733')\"\n",
              "              title=\"Convert this dataframe to an interactive table.\"\n",
              "              style=\"display:none;\">\n",
              "        \n",
              "  <svg xmlns=\"http://www.w3.org/2000/svg\" height=\"24px\"viewBox=\"0 0 24 24\"\n",
              "       width=\"24px\">\n",
              "    <path d=\"M0 0h24v24H0V0z\" fill=\"none\"/>\n",
              "    <path d=\"M18.56 5.44l.94 2.06.94-2.06 2.06-.94-2.06-.94-.94-2.06-.94 2.06-2.06.94zm-11 1L8.5 8.5l.94-2.06 2.06-.94-2.06-.94L8.5 2.5l-.94 2.06-2.06.94zm10 10l.94 2.06.94-2.06 2.06-.94-2.06-.94-.94-2.06-.94 2.06-2.06.94z\"/><path d=\"M17.41 7.96l-1.37-1.37c-.4-.4-.92-.59-1.43-.59-.52 0-1.04.2-1.43.59L10.3 9.45l-7.72 7.72c-.78.78-.78 2.05 0 2.83L4 21.41c.39.39.9.59 1.41.59.51 0 1.02-.2 1.41-.59l7.78-7.78 2.81-2.81c.8-.78.8-2.07 0-2.86zM5.41 20L4 18.59l7.72-7.72 1.47 1.35L5.41 20z\"/>\n",
              "  </svg>\n",
              "      </button>\n",
              "      \n",
              "  <style>\n",
              "    .colab-df-container {\n",
              "      display:flex;\n",
              "      flex-wrap:wrap;\n",
              "      gap: 12px;\n",
              "    }\n",
              "\n",
              "    .colab-df-convert {\n",
              "      background-color: #E8F0FE;\n",
              "      border: none;\n",
              "      border-radius: 50%;\n",
              "      cursor: pointer;\n",
              "      display: none;\n",
              "      fill: #1967D2;\n",
              "      height: 32px;\n",
              "      padding: 0 0 0 0;\n",
              "      width: 32px;\n",
              "    }\n",
              "\n",
              "    .colab-df-convert:hover {\n",
              "      background-color: #E2EBFA;\n",
              "      box-shadow: 0px 1px 2px rgba(60, 64, 67, 0.3), 0px 1px 3px 1px rgba(60, 64, 67, 0.15);\n",
              "      fill: #174EA6;\n",
              "    }\n",
              "\n",
              "    [theme=dark] .colab-df-convert {\n",
              "      background-color: #3B4455;\n",
              "      fill: #D2E3FC;\n",
              "    }\n",
              "\n",
              "    [theme=dark] .colab-df-convert:hover {\n",
              "      background-color: #434B5C;\n",
              "      box-shadow: 0px 1px 3px 1px rgba(0, 0, 0, 0.15);\n",
              "      filter: drop-shadow(0px 1px 2px rgba(0, 0, 0, 0.3));\n",
              "      fill: #FFFFFF;\n",
              "    }\n",
              "  </style>\n",
              "\n",
              "      <script>\n",
              "        const buttonEl =\n",
              "          document.querySelector('#df-9955098f-643f-4697-b5f4-3f25f0684733 button.colab-df-convert');\n",
              "        buttonEl.style.display =\n",
              "          google.colab.kernel.accessAllowed ? 'block' : 'none';\n",
              "\n",
              "        async function convertToInteractive(key) {\n",
              "          const element = document.querySelector('#df-9955098f-643f-4697-b5f4-3f25f0684733');\n",
              "          const dataTable =\n",
              "            await google.colab.kernel.invokeFunction('convertToInteractive',\n",
              "                                                     [key], {});\n",
              "          if (!dataTable) return;\n",
              "\n",
              "          const docLinkHtml = 'Like what you see? Visit the ' +\n",
              "            '<a target=\"_blank\" href=https://colab.research.google.com/notebooks/data_table.ipynb>data table notebook</a>'\n",
              "            + ' to learn more about interactive tables.';\n",
              "          element.innerHTML = '';\n",
              "          dataTable['output_type'] = 'display_data';\n",
              "          await google.colab.output.renderOutput(dataTable, element);\n",
              "          const docLink = document.createElement('div');\n",
              "          docLink.innerHTML = docLinkHtml;\n",
              "          element.appendChild(docLink);\n",
              "        }\n",
              "      </script>\n",
              "    </div>\n",
              "  </div>\n",
              "  "
            ]
          },
          "metadata": {},
          "execution_count": 4
        }
      ],
      "source": [
        "item_categories = pd.read_csv('/content/drive/MyDrive/item_categories.csv')\n",
        "items = pd.read_csv('/content/drive/MyDrive/items.csv')\n",
        "sales_train = pd.read_csv('/content/drive/MyDrive/sales_train.csv')\n",
        "sample_submission = pd.read_csv('/content/drive/MyDrive/sample_submission.csv')\n",
        "shops = pd.read_csv('/content/drive/MyDrive/shops.csv')\n",
        "test = pd.read_csv('/content/drive/MyDrive/test.csv')\n",
        "\n",
        "datasets = {\n",
        "    'item_categories': item_categories.columns.values,\n",
        "    'items': items.columns.values,\n",
        "    'sales_train': sales_train.columns.values,\n",
        "    'sample_submission': sample_submission.columns.values,\n",
        "    'shops': shops.columns.values,\n",
        "    'test': test.columns.values\n",
        "}\n",
        "\n",
        "# Si cada dataset tiene menos de 6 columnas, completar con NaN.\n",
        "for dataset in datasets:\n",
        "    while len(datasets[dataset]) < 6:\n",
        "        datasets[dataset] = np.append(datasets[dataset], '-')\n",
        "\n",
        "pd.DataFrame(datasets)"
      ]
    },
    {
      "cell_type": "code",
      "execution_count": 5,
      "metadata": {
        "colab": {
          "base_uri": "https://localhost:8080/"
        },
        "id": "DkgqrJQJAR_V",
        "outputId": "efcd8e35-a6dd-4aae-cafe-da71e7f69fb4"
      },
      "outputs": [
        {
          "output_type": "stream",
          "name": "stdout",
          "text": [
            "(214200,)\n"
          ]
        }
      ],
      "source": [
        "# Transformar el tipo de datos de la columna 'shop_id' a string.\n",
        "ids = test['shop_id'].astype(str)\n",
        "# Unir una columna con el valor de la columna 'shop_id' y la columna 'item_id'\n",
        "ids = ids.str.cat(test['item_id'].astype(str), sep='_')\n",
        "print(ids.unique().shape)"
      ]
    },
    {
      "cell_type": "code",
      "execution_count": 8,
      "metadata": {
        "id": "cy-8NEsDcihe"
      },
      "outputs": [],
      "source": [
        "ds = sales_train\n",
        "\n",
        "ds.rename(columns={'item_cnt_day':'sales', 'date_block_num':'block'}, inplace=True)\n",
        "w = ds.groupby(['block','shop_id','item_id']).sum()['sales'].reset_index()\n",
        "v = ds.groupby(['block','shop_id','item_id']).mean()['item_price'].reset_index()\n",
        "v['sales'] = w.sales\n",
        "v = v.merge(test, on=['shop_id','item_id'], how='inner')\n",
        "\n",
        "v = v.loc[v['sales'] != 0]\n",
        "ds = v.sort_values(by=['item_id', 'shop_id', 'block'])"
      ]
    },
    {
      "cell_type": "code",
      "execution_count": 9,
      "metadata": {
        "colab": {
          "base_uri": "https://localhost:8080/"
        },
        "id": "pYU3ypfHcihg",
        "outputId": "c5826613-3a98-4c34-f3e6-7a2b8e02e5bf"
      },
      "outputs": [
        {
          "output_type": "execute_result",
          "data": {
            "text/plain": [
              "(102838,)"
            ]
          },
          "metadata": {},
          "execution_count": 9
        }
      ],
      "source": [
        "test_zero = np.setxor1d(test['ID'].values, v['ID'].values)\n",
        "test_zero.shape"
      ]
    },
    {
      "cell_type": "code",
      "execution_count": 10,
      "metadata": {
        "colab": {
          "base_uri": "https://localhost:8080/",
          "height": 267
        },
        "id": "AVXXZ6o5cihj",
        "outputId": "bcd37885-5570-4c9b-9a52-0a6c4171cb57"
      },
      "outputs": [
        {
          "output_type": "execute_result",
          "data": {
            "text/plain": [
              "      ID sales                          ...                              \n",
              "block        0  1  2  3  4  5  6  7  8  ... 24 25 26 27 28 29 30 31 32 33\n",
              "0      0     0  0  0  0  0  0  0  0  0  ...  2  0  0  0  1  1  1  3  1  0\n",
              "1      2     0  0  0  0  0  0  0  0  0  ...  0  0  0  0  3  2  0  1  3  1\n",
              "2      3     0  0  0  0  0  0  0  0  0  ...  0  0  0  0  0  0  0  1  0  0\n",
              "3      5     0  0  0  0  0  0  0  0  0  ...  1  0  0  0  3  0  0  0  1  1\n",
              "4      6     0  0  0  0  0  0  0  0  0  ...  0  0  0  0  0  0  0  0  3  2\n",
              "\n",
              "[5 rows x 35 columns]"
            ],
            "text/html": [
              "\n",
              "  <div id=\"df-544f51f7-73a2-42d2-ae95-c6804ea66f5f\">\n",
              "    <div class=\"colab-df-container\">\n",
              "      <div>\n",
              "<style scoped>\n",
              "    .dataframe tbody tr th:only-of-type {\n",
              "        vertical-align: middle;\n",
              "    }\n",
              "\n",
              "    .dataframe tbody tr th {\n",
              "        vertical-align: top;\n",
              "    }\n",
              "\n",
              "    .dataframe thead tr th {\n",
              "        text-align: left;\n",
              "    }\n",
              "</style>\n",
              "<table border=\"1\" class=\"dataframe\">\n",
              "  <thead>\n",
              "    <tr>\n",
              "      <th></th>\n",
              "      <th>ID</th>\n",
              "      <th colspan=\"20\" halign=\"left\">sales</th>\n",
              "    </tr>\n",
              "    <tr>\n",
              "      <th>block</th>\n",
              "      <th></th>\n",
              "      <th>0</th>\n",
              "      <th>1</th>\n",
              "      <th>2</th>\n",
              "      <th>3</th>\n",
              "      <th>4</th>\n",
              "      <th>5</th>\n",
              "      <th>6</th>\n",
              "      <th>7</th>\n",
              "      <th>8</th>\n",
              "      <th>...</th>\n",
              "      <th>24</th>\n",
              "      <th>25</th>\n",
              "      <th>26</th>\n",
              "      <th>27</th>\n",
              "      <th>28</th>\n",
              "      <th>29</th>\n",
              "      <th>30</th>\n",
              "      <th>31</th>\n",
              "      <th>32</th>\n",
              "      <th>33</th>\n",
              "    </tr>\n",
              "  </thead>\n",
              "  <tbody>\n",
              "    <tr>\n",
              "      <th>0</th>\n",
              "      <td>0</td>\n",
              "      <td>0</td>\n",
              "      <td>0</td>\n",
              "      <td>0</td>\n",
              "      <td>0</td>\n",
              "      <td>0</td>\n",
              "      <td>0</td>\n",
              "      <td>0</td>\n",
              "      <td>0</td>\n",
              "      <td>0</td>\n",
              "      <td>...</td>\n",
              "      <td>2</td>\n",
              "      <td>0</td>\n",
              "      <td>0</td>\n",
              "      <td>0</td>\n",
              "      <td>1</td>\n",
              "      <td>1</td>\n",
              "      <td>1</td>\n",
              "      <td>3</td>\n",
              "      <td>1</td>\n",
              "      <td>0</td>\n",
              "    </tr>\n",
              "    <tr>\n",
              "      <th>1</th>\n",
              "      <td>2</td>\n",
              "      <td>0</td>\n",
              "      <td>0</td>\n",
              "      <td>0</td>\n",
              "      <td>0</td>\n",
              "      <td>0</td>\n",
              "      <td>0</td>\n",
              "      <td>0</td>\n",
              "      <td>0</td>\n",
              "      <td>0</td>\n",
              "      <td>...</td>\n",
              "      <td>0</td>\n",
              "      <td>0</td>\n",
              "      <td>0</td>\n",
              "      <td>0</td>\n",
              "      <td>3</td>\n",
              "      <td>2</td>\n",
              "      <td>0</td>\n",
              "      <td>1</td>\n",
              "      <td>3</td>\n",
              "      <td>1</td>\n",
              "    </tr>\n",
              "    <tr>\n",
              "      <th>2</th>\n",
              "      <td>3</td>\n",
              "      <td>0</td>\n",
              "      <td>0</td>\n",
              "      <td>0</td>\n",
              "      <td>0</td>\n",
              "      <td>0</td>\n",
              "      <td>0</td>\n",
              "      <td>0</td>\n",
              "      <td>0</td>\n",
              "      <td>0</td>\n",
              "      <td>...</td>\n",
              "      <td>0</td>\n",
              "      <td>0</td>\n",
              "      <td>0</td>\n",
              "      <td>0</td>\n",
              "      <td>0</td>\n",
              "      <td>0</td>\n",
              "      <td>0</td>\n",
              "      <td>1</td>\n",
              "      <td>0</td>\n",
              "      <td>0</td>\n",
              "    </tr>\n",
              "    <tr>\n",
              "      <th>3</th>\n",
              "      <td>5</td>\n",
              "      <td>0</td>\n",
              "      <td>0</td>\n",
              "      <td>0</td>\n",
              "      <td>0</td>\n",
              "      <td>0</td>\n",
              "      <td>0</td>\n",
              "      <td>0</td>\n",
              "      <td>0</td>\n",
              "      <td>0</td>\n",
              "      <td>...</td>\n",
              "      <td>1</td>\n",
              "      <td>0</td>\n",
              "      <td>0</td>\n",
              "      <td>0</td>\n",
              "      <td>3</td>\n",
              "      <td>0</td>\n",
              "      <td>0</td>\n",
              "      <td>0</td>\n",
              "      <td>1</td>\n",
              "      <td>1</td>\n",
              "    </tr>\n",
              "    <tr>\n",
              "      <th>4</th>\n",
              "      <td>6</td>\n",
              "      <td>0</td>\n",
              "      <td>0</td>\n",
              "      <td>0</td>\n",
              "      <td>0</td>\n",
              "      <td>0</td>\n",
              "      <td>0</td>\n",
              "      <td>0</td>\n",
              "      <td>0</td>\n",
              "      <td>0</td>\n",
              "      <td>...</td>\n",
              "      <td>0</td>\n",
              "      <td>0</td>\n",
              "      <td>0</td>\n",
              "      <td>0</td>\n",
              "      <td>0</td>\n",
              "      <td>0</td>\n",
              "      <td>0</td>\n",
              "      <td>0</td>\n",
              "      <td>3</td>\n",
              "      <td>2</td>\n",
              "    </tr>\n",
              "  </tbody>\n",
              "</table>\n",
              "<p>5 rows × 35 columns</p>\n",
              "</div>\n",
              "      <button class=\"colab-df-convert\" onclick=\"convertToInteractive('df-544f51f7-73a2-42d2-ae95-c6804ea66f5f')\"\n",
              "              title=\"Convert this dataframe to an interactive table.\"\n",
              "              style=\"display:none;\">\n",
              "        \n",
              "  <svg xmlns=\"http://www.w3.org/2000/svg\" height=\"24px\"viewBox=\"0 0 24 24\"\n",
              "       width=\"24px\">\n",
              "    <path d=\"M0 0h24v24H0V0z\" fill=\"none\"/>\n",
              "    <path d=\"M18.56 5.44l.94 2.06.94-2.06 2.06-.94-2.06-.94-.94-2.06-.94 2.06-2.06.94zm-11 1L8.5 8.5l.94-2.06 2.06-.94-2.06-.94L8.5 2.5l-.94 2.06-2.06.94zm10 10l.94 2.06.94-2.06 2.06-.94-2.06-.94-.94-2.06-.94 2.06-2.06.94z\"/><path d=\"M17.41 7.96l-1.37-1.37c-.4-.4-.92-.59-1.43-.59-.52 0-1.04.2-1.43.59L10.3 9.45l-7.72 7.72c-.78.78-.78 2.05 0 2.83L4 21.41c.39.39.9.59 1.41.59.51 0 1.02-.2 1.41-.59l7.78-7.78 2.81-2.81c.8-.78.8-2.07 0-2.86zM5.41 20L4 18.59l7.72-7.72 1.47 1.35L5.41 20z\"/>\n",
              "  </svg>\n",
              "      </button>\n",
              "      \n",
              "  <style>\n",
              "    .colab-df-container {\n",
              "      display:flex;\n",
              "      flex-wrap:wrap;\n",
              "      gap: 12px;\n",
              "    }\n",
              "\n",
              "    .colab-df-convert {\n",
              "      background-color: #E8F0FE;\n",
              "      border: none;\n",
              "      border-radius: 50%;\n",
              "      cursor: pointer;\n",
              "      display: none;\n",
              "      fill: #1967D2;\n",
              "      height: 32px;\n",
              "      padding: 0 0 0 0;\n",
              "      width: 32px;\n",
              "    }\n",
              "\n",
              "    .colab-df-convert:hover {\n",
              "      background-color: #E2EBFA;\n",
              "      box-shadow: 0px 1px 2px rgba(60, 64, 67, 0.3), 0px 1px 3px 1px rgba(60, 64, 67, 0.15);\n",
              "      fill: #174EA6;\n",
              "    }\n",
              "\n",
              "    [theme=dark] .colab-df-convert {\n",
              "      background-color: #3B4455;\n",
              "      fill: #D2E3FC;\n",
              "    }\n",
              "\n",
              "    [theme=dark] .colab-df-convert:hover {\n",
              "      background-color: #434B5C;\n",
              "      box-shadow: 0px 1px 3px 1px rgba(0, 0, 0, 0.15);\n",
              "      filter: drop-shadow(0px 1px 2px rgba(0, 0, 0, 0.3));\n",
              "      fill: #FFFFFF;\n",
              "    }\n",
              "  </style>\n",
              "\n",
              "      <script>\n",
              "        const buttonEl =\n",
              "          document.querySelector('#df-544f51f7-73a2-42d2-ae95-c6804ea66f5f button.colab-df-convert');\n",
              "        buttonEl.style.display =\n",
              "          google.colab.kernel.accessAllowed ? 'block' : 'none';\n",
              "\n",
              "        async function convertToInteractive(key) {\n",
              "          const element = document.querySelector('#df-544f51f7-73a2-42d2-ae95-c6804ea66f5f');\n",
              "          const dataTable =\n",
              "            await google.colab.kernel.invokeFunction('convertToInteractive',\n",
              "                                                     [key], {});\n",
              "          if (!dataTable) return;\n",
              "\n",
              "          const docLinkHtml = 'Like what you see? Visit the ' +\n",
              "            '<a target=\"_blank\" href=https://colab.research.google.com/notebooks/data_table.ipynb>data table notebook</a>'\n",
              "            + ' to learn more about interactive tables.';\n",
              "          element.innerHTML = '';\n",
              "          dataTable['output_type'] = 'display_data';\n",
              "          await google.colab.output.renderOutput(dataTable, element);\n",
              "          const docLink = document.createElement('div');\n",
              "          docLink.innerHTML = docLinkHtml;\n",
              "          element.appendChild(docLink);\n",
              "        }\n",
              "      </script>\n",
              "    </div>\n",
              "  </div>\n",
              "  "
            ]
          },
          "metadata": {},
          "execution_count": 10
        }
      ],
      "source": [
        "ds_pivoted = ds.pivot_table(index = ['ID'], values = ['sales'], columns = ['block'], fill_value = 0, aggfunc='sum').reset_index()\n",
        "ds_pivoted.head()"
      ]
    },
    {
      "cell_type": "code",
      "execution_count": 11,
      "metadata": {
        "colab": {
          "base_uri": "https://localhost:8080/"
        },
        "id": "xStW8At9KeZH",
        "outputId": "5932cc0c-1ef1-4ea8-d0b7-fb3667bcd552"
      },
      "outputs": [
        {
          "output_type": "stream",
          "name": "stdout",
          "text": [
            "(599246, 6) (3786308, 6)\n"
          ]
        }
      ],
      "source": [
        "shape_0 = ds.shape\n",
        "for i in range(34):\n",
        "    a = ds_pivoted.loc[ds_pivoted['sales'][i]==0]\n",
        "    ds = pd.concat([ds, pd.DataFrame({'ID':a['ID'], 'block':i, 'sales':0})], ignore_index=True)\n",
        "\n",
        "shape_1 = ds.shape\n",
        "print(shape_0, shape_1)\n",
        "ds = ds.sort_values(by=['ID', 'block'])"
      ]
    },
    {
      "cell_type": "code",
      "execution_count": 13,
      "metadata": {
        "colab": {
          "base_uri": "https://localhost:8080/",
          "height": 206
        },
        "id": "rdOrQs8EMmql",
        "outputId": "5bcf166f-830d-43b7-b5a1-afec83d2bd99"
      },
      "outputs": [
        {
          "output_type": "execute_result",
          "data": {
            "text/plain": [
              "         sales\n",
              "599246     0.0\n",
              "702790     0.0\n",
              "805943     0.0\n",
              "907571     0.0\n",
              "1010276    0.0"
            ],
            "text/html": [
              "\n",
              "  <div id=\"df-33f9407b-4cb4-4dd5-b9a2-7e51b5d92735\">\n",
              "    <div class=\"colab-df-container\">\n",
              "      <div>\n",
              "<style scoped>\n",
              "    .dataframe tbody tr th:only-of-type {\n",
              "        vertical-align: middle;\n",
              "    }\n",
              "\n",
              "    .dataframe tbody tr th {\n",
              "        vertical-align: top;\n",
              "    }\n",
              "\n",
              "    .dataframe thead th {\n",
              "        text-align: right;\n",
              "    }\n",
              "</style>\n",
              "<table border=\"1\" class=\"dataframe\">\n",
              "  <thead>\n",
              "    <tr style=\"text-align: right;\">\n",
              "      <th></th>\n",
              "      <th>sales</th>\n",
              "    </tr>\n",
              "  </thead>\n",
              "  <tbody>\n",
              "    <tr>\n",
              "      <th>599246</th>\n",
              "      <td>0.0</td>\n",
              "    </tr>\n",
              "    <tr>\n",
              "      <th>702790</th>\n",
              "      <td>0.0</td>\n",
              "    </tr>\n",
              "    <tr>\n",
              "      <th>805943</th>\n",
              "      <td>0.0</td>\n",
              "    </tr>\n",
              "    <tr>\n",
              "      <th>907571</th>\n",
              "      <td>0.0</td>\n",
              "    </tr>\n",
              "    <tr>\n",
              "      <th>1010276</th>\n",
              "      <td>0.0</td>\n",
              "    </tr>\n",
              "  </tbody>\n",
              "</table>\n",
              "</div>\n",
              "      <button class=\"colab-df-convert\" onclick=\"convertToInteractive('df-33f9407b-4cb4-4dd5-b9a2-7e51b5d92735')\"\n",
              "              title=\"Convert this dataframe to an interactive table.\"\n",
              "              style=\"display:none;\">\n",
              "        \n",
              "  <svg xmlns=\"http://www.w3.org/2000/svg\" height=\"24px\"viewBox=\"0 0 24 24\"\n",
              "       width=\"24px\">\n",
              "    <path d=\"M0 0h24v24H0V0z\" fill=\"none\"/>\n",
              "    <path d=\"M18.56 5.44l.94 2.06.94-2.06 2.06-.94-2.06-.94-.94-2.06-.94 2.06-2.06.94zm-11 1L8.5 8.5l.94-2.06 2.06-.94-2.06-.94L8.5 2.5l-.94 2.06-2.06.94zm10 10l.94 2.06.94-2.06 2.06-.94-2.06-.94-.94-2.06-.94 2.06-2.06.94z\"/><path d=\"M17.41 7.96l-1.37-1.37c-.4-.4-.92-.59-1.43-.59-.52 0-1.04.2-1.43.59L10.3 9.45l-7.72 7.72c-.78.78-.78 2.05 0 2.83L4 21.41c.39.39.9.59 1.41.59.51 0 1.02-.2 1.41-.59l7.78-7.78 2.81-2.81c.8-.78.8-2.07 0-2.86zM5.41 20L4 18.59l7.72-7.72 1.47 1.35L5.41 20z\"/>\n",
              "  </svg>\n",
              "      </button>\n",
              "      \n",
              "  <style>\n",
              "    .colab-df-container {\n",
              "      display:flex;\n",
              "      flex-wrap:wrap;\n",
              "      gap: 12px;\n",
              "    }\n",
              "\n",
              "    .colab-df-convert {\n",
              "      background-color: #E8F0FE;\n",
              "      border: none;\n",
              "      border-radius: 50%;\n",
              "      cursor: pointer;\n",
              "      display: none;\n",
              "      fill: #1967D2;\n",
              "      height: 32px;\n",
              "      padding: 0 0 0 0;\n",
              "      width: 32px;\n",
              "    }\n",
              "\n",
              "    .colab-df-convert:hover {\n",
              "      background-color: #E2EBFA;\n",
              "      box-shadow: 0px 1px 2px rgba(60, 64, 67, 0.3), 0px 1px 3px 1px rgba(60, 64, 67, 0.15);\n",
              "      fill: #174EA6;\n",
              "    }\n",
              "\n",
              "    [theme=dark] .colab-df-convert {\n",
              "      background-color: #3B4455;\n",
              "      fill: #D2E3FC;\n",
              "    }\n",
              "\n",
              "    [theme=dark] .colab-df-convert:hover {\n",
              "      background-color: #434B5C;\n",
              "      box-shadow: 0px 1px 3px 1px rgba(0, 0, 0, 0.15);\n",
              "      filter: drop-shadow(0px 1px 2px rgba(0, 0, 0, 0.3));\n",
              "      fill: #FFFFFF;\n",
              "    }\n",
              "  </style>\n",
              "\n",
              "      <script>\n",
              "        const buttonEl =\n",
              "          document.querySelector('#df-33f9407b-4cb4-4dd5-b9a2-7e51b5d92735 button.colab-df-convert');\n",
              "        buttonEl.style.display =\n",
              "          google.colab.kernel.accessAllowed ? 'block' : 'none';\n",
              "\n",
              "        async function convertToInteractive(key) {\n",
              "          const element = document.querySelector('#df-33f9407b-4cb4-4dd5-b9a2-7e51b5d92735');\n",
              "          const dataTable =\n",
              "            await google.colab.kernel.invokeFunction('convertToInteractive',\n",
              "                                                     [key], {});\n",
              "          if (!dataTable) return;\n",
              "\n",
              "          const docLinkHtml = 'Like what you see? Visit the ' +\n",
              "            '<a target=\"_blank\" href=https://colab.research.google.com/notebooks/data_table.ipynb>data table notebook</a>'\n",
              "            + ' to learn more about interactive tables.';\n",
              "          element.innerHTML = '';\n",
              "          dataTable['output_type'] = 'display_data';\n",
              "          await google.colab.output.renderOutput(dataTable, element);\n",
              "          const docLink = document.createElement('div');\n",
              "          docLink.innerHTML = docLinkHtml;\n",
              "          element.appendChild(docLink);\n",
              "        }\n",
              "      </script>\n",
              "    </div>\n",
              "  </div>\n",
              "  "
            ]
          },
          "metadata": {},
          "execution_count": 13
        }
      ],
      "source": [
        "_ds = ds.drop(['shop_id','item_id','item_price','ID','block'],axis=1)\n",
        "_ds.head()"
      ]
    },
    {
      "cell_type": "code",
      "source": [
        "_ds.shape"
      ],
      "metadata": {
        "colab": {
          "base_uri": "https://localhost:8080/"
        },
        "id": "K08fXxn-e_ni",
        "outputId": "948bffae-e42b-4402-adfa-33e6b1a5cd16"
      },
      "execution_count": 15,
      "outputs": [
        {
          "output_type": "execute_result",
          "data": {
            "text/plain": [
              "(3786308, 1)"
            ]
          },
          "metadata": {},
          "execution_count": 15
        }
      ]
    },
    {
      "cell_type": "code",
      "execution_count": 21,
      "metadata": {
        "id": "RSDi07ppKeZM"
      },
      "outputs": [],
      "source": [
        "from tensorflow.keras.utils import timeseries_dataset_from_array\n",
        "\n",
        "X = timeseries_dataset_from_array(_ds.values[:], _ds.values, 33,sequence_stride=34, batch_size=111362)"
      ]
    },
    {
      "cell_type": "code",
      "execution_count": 22,
      "metadata": {
        "colab": {
          "base_uri": "https://localhost:8080/"
        },
        "id": "fF7TKGOrQglq",
        "outputId": "0ae4eec9-773a-4a8e-e308-332f4f8db3f1"
      },
      "outputs": [
        {
          "output_type": "stream",
          "name": "stdout",
          "text": [
            "[0. 0. 0. 0. 0. 0. 0. 0. 0. 0. 0. 0. 0. 0. 0. 0. 0. 0. 0. 0. 1. 0. 1. 2.\n",
            " 2. 0. 0. 0. 1. 1. 1. 3. 1.] --> 0.0\n",
            "Input shape: (111362, 33, 1)\n",
            "Target shape: (111362, 1)\n"
          ]
        }
      ],
      "source": [
        "import tensorflow as tf\n",
        "for inputs, targets in X.take(1):\n",
        "    print(tf.squeeze(inputs)[0].numpy(), '-->', tf.squeeze(targets)[0].numpy())\n",
        "    print(\"Input shape:\", inputs.numpy().shape)\n",
        "    print(\"Target shape:\", targets.numpy().shape)"
      ]
    },
    {
      "cell_type": "markdown",
      "metadata": {
        "id": "rqO-E70aKeZR"
      },
      "source": [
        " ## Definición de modelo"
      ]
    },
    {
      "cell_type": "code",
      "execution_count": 23,
      "metadata": {
        "id": "lGFcd-q0KeZS"
      },
      "outputs": [],
      "source": [
        "def build_model(lr):\n",
        "\n",
        "  model = keras.Sequential([\n",
        "    keras.layers.LSTM(units=8, batch_input_shape=(111362, 33, 1), stateful=True),\n",
        "    keras.layers.BatchNormalization(),\n",
        "    keras.layers.Dense(1, activation='relu')\n",
        "  ])\n",
        "\n",
        "  model.compile(loss='mse',\n",
        "                optimizer=Adam(learning_rate=lr),\n",
        "                metrics=['accuracy','mean_squared_error'])\n",
        "\n",
        "  return model"
      ]
    },
    {
      "cell_type": "markdown",
      "metadata": {
        "id": "EO1KMuD6KeZU"
      },
      "source": [
        " ## Entrenamiento del modelo\n"
      ]
    },
    {
      "cell_type": "markdown",
      "metadata": {
        "id": "gHrXRtRJKeZW"
      },
      "source": [
        "### Instaciacion del modelo."
      ]
    },
    {
      "cell_type": "code",
      "execution_count": 26,
      "metadata": {
        "id": "j0AENk_yKeZW"
      },
      "outputs": [],
      "source": [
        "keras.utils.set_random_seed(0)\n",
        "model = build_model(0.0001)"
      ]
    },
    {
      "cell_type": "markdown",
      "metadata": {
        "id": "FBNHMgGmKeZZ"
      },
      "source": [
        "### entrenamiento normal"
      ]
    },
    {
      "cell_type": "code",
      "execution_count": 27,
      "metadata": {
        "colab": {
          "base_uri": "https://localhost:8080/"
        },
        "id": "fNnFQSIAKeZa",
        "outputId": "6560d412-c5e7-4ffe-c656-9788b7bc74d0"
      },
      "outputs": [
        {
          "output_type": "stream",
          "name": "stdout",
          "text": [
            "1/1 [==============================] - 12s 12s/step - loss: 2.0809 - accuracy: 0.8484 - mean_squared_error: 2.0809\n",
            "1/1 [==============================] - 10s 10s/step - loss: 2.0804 - accuracy: 0.8483 - mean_squared_error: 2.0804\n",
            "1/1 [==============================] - 10s 10s/step - loss: 2.0799 - accuracy: 0.8480 - mean_squared_error: 2.0799\n",
            "1/1 [==============================] - 10s 10s/step - loss: 2.0794 - accuracy: 0.8478 - mean_squared_error: 2.0794\n",
            "1/1 [==============================] - 10s 10s/step - loss: 2.0789 - accuracy: 0.8476 - mean_squared_error: 2.0789\n",
            "1/1 [==============================] - 10s 10s/step - loss: 2.0785 - accuracy: 0.8475 - mean_squared_error: 2.0785\n",
            "1/1 [==============================] - 10s 10s/step - loss: 2.0780 - accuracy: 0.8475 - mean_squared_error: 2.0780\n",
            "1/1 [==============================] - 10s 10s/step - loss: 2.0775 - accuracy: 0.8475 - mean_squared_error: 2.0775\n",
            "1/1 [==============================] - 10s 10s/step - loss: 2.0770 - accuracy: 0.8475 - mean_squared_error: 2.0770\n",
            "1/1 [==============================] - 10s 10s/step - loss: 2.0766 - accuracy: 0.8475 - mean_squared_error: 2.0766\n"
          ]
        }
      ],
      "source": [
        "for epoc in range(10):\n",
        "    model.fit(X, verbose=1, epochs=1, shuffle=False)\n",
        "    model.reset_states()"
      ]
    },
    {
      "cell_type": "markdown",
      "metadata": {
        "id": "XRVchsfiKeZe"
      },
      "source": [
        " ## Predicciones"
      ]
    },
    {
      "cell_type": "code",
      "execution_count": 28,
      "metadata": {
        "id": "LludoE9kySDm"
      },
      "outputs": [],
      "source": [
        "from tensorflow.keras.utils import timeseries_dataset_from_array\n",
        "\n",
        "_test = _ds.drop(ds.index[::34])\n",
        "_test = timeseries_dataset_from_array(_test[:], None, 33, sequence_stride=33,batch_size=111362)"
      ]
    },
    {
      "cell_type": "code",
      "source": [
        "ds['ID'].unique().shape"
      ],
      "metadata": {
        "colab": {
          "base_uri": "https://localhost:8080/"
        },
        "id": "s9K_N6nLjL1x",
        "outputId": "482cfb39-0da9-4ca8-8b3f-744ab1f0fd39"
      },
      "execution_count": 36,
      "outputs": [
        {
          "output_type": "execute_result",
          "data": {
            "text/plain": [
              "(111362,)"
            ]
          },
          "metadata": {},
          "execution_count": 36
        }
      ]
    },
    {
      "cell_type": "code",
      "execution_count": 38,
      "metadata": {
        "id": "c_7OSbTzKeZf",
        "colab": {
          "base_uri": "https://localhost:8080/"
        },
        "outputId": "939e4135-e0ab-47a6-ad8b-5a748b88165f"
      },
      "outputs": [
        {
          "output_type": "stream",
          "name": "stdout",
          "text": [
            "1/1 [==============================] - 7s 7s/step\n"
          ]
        }
      ],
      "source": [
        "preds = model.predict(_test).ravel()\n",
        "preds = pd.DataFrame({ 'ID': ds['ID'].unique(), 'item_cnt_month': preds.astype(int)})\n",
        "preds = pd.concat([preds, pd.DataFrame({'ID':test_zero, 'item_cnt_month':0})], ignore_index=True)\n",
        "submission = preds.sort_values(by=['ID'])"
      ]
    },
    {
      "cell_type": "code",
      "execution_count": 39,
      "metadata": {
        "id": "euVm10rnKeZg"
      },
      "outputs": [],
      "source": [
        "# creating csv file from dataframe\n",
        "submission.to_csv('./sub_pfs.csv',index = False)"
      ]
    }
  ],
  "metadata": {
    "accelerator": "GPU",
    "colab": {
      "collapsed_sections": [],
      "provenance": []
    },
    "kernelspec": {
      "display_name": "Python 3.10.5 ('.env': venv)",
      "language": "python",
      "name": "python3"
    },
    "language_info": {
      "codemirror_mode": {
        "name": "ipython",
        "version": 3
      },
      "file_extension": ".py",
      "mimetype": "text/x-python",
      "name": "python",
      "nbconvert_exporter": "python",
      "pygments_lexer": "ipython3",
      "version": "3.10.5"
    },
    "orig_nbformat": 4,
    "vscode": {
      "interpreter": {
        "hash": "d3d4fb45a30c4d24fb40ebcf01bdd00e04f9a91416b059fe52170dfd58e37d60"
      }
    }
  },
  "nbformat": 4,
  "nbformat_minor": 0
}